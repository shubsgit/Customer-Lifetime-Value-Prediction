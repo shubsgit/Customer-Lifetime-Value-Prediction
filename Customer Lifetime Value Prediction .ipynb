{
 "cells": [
  {
   "cell_type": "markdown",
   "metadata": {},
   "source": [
    "\n",
    "\n",
    "# Step-1 "
   ]
  },
  {
   "cell_type": "code",
   "execution_count": 1,
   "metadata": {},
   "outputs": [
    {
     "data": {
      "text/html": [
       "<div>\n",
       "<style scoped>\n",
       "    .dataframe tbody tr th:only-of-type {\n",
       "        vertical-align: middle;\n",
       "    }\n",
       "\n",
       "    .dataframe tbody tr th {\n",
       "        vertical-align: top;\n",
       "    }\n",
       "\n",
       "    .dataframe thead th {\n",
       "        text-align: right;\n",
       "    }\n",
       "</style>\n",
       "<table border=\"1\" class=\"dataframe\">\n",
       "  <thead>\n",
       "    <tr style=\"text-align: right;\">\n",
       "      <th></th>\n",
       "      <th>count</th>\n",
       "      <th>mean</th>\n",
       "      <th>std</th>\n",
       "      <th>min</th>\n",
       "      <th>25%</th>\n",
       "      <th>50%</th>\n",
       "      <th>75%</th>\n",
       "      <th>max</th>\n",
       "    </tr>\n",
       "  </thead>\n",
       "  <tbody>\n",
       "    <tr>\n",
       "      <td>TransactionID</td>\n",
       "      <td>4186.0</td>\n",
       "      <td>2093.500000</td>\n",
       "      <td>1208.538442</td>\n",
       "      <td>1.0</td>\n",
       "      <td>1047.25</td>\n",
       "      <td>2093.500</td>\n",
       "      <td>3139.75</td>\n",
       "      <td>4186.0</td>\n",
       "    </tr>\n",
       "    <tr>\n",
       "      <td>CustomerID</td>\n",
       "      <td>4186.0</td>\n",
       "      <td>516.165791</td>\n",
       "      <td>291.465283</td>\n",
       "      <td>1.0</td>\n",
       "      <td>270.00</td>\n",
       "      <td>522.000</td>\n",
       "      <td>762.75</td>\n",
       "      <td>1000.0</td>\n",
       "    </tr>\n",
       "    <tr>\n",
       "      <td>Amount</td>\n",
       "      <td>4186.0</td>\n",
       "      <td>9.028082</td>\n",
       "      <td>38.723909</td>\n",
       "      <td>-1.0</td>\n",
       "      <td>3.31</td>\n",
       "      <td>6.885</td>\n",
       "      <td>11.69</td>\n",
       "      <td>2033.0</td>\n",
       "    </tr>\n",
       "  </tbody>\n",
       "</table>\n",
       "</div>"
      ],
      "text/plain": [
       "                count         mean          std  min      25%       50%  \\\n",
       "TransactionID  4186.0  2093.500000  1208.538442  1.0  1047.25  2093.500   \n",
       "CustomerID     4186.0   516.165791   291.465283  1.0   270.00   522.000   \n",
       "Amount         4186.0     9.028082    38.723909 -1.0     3.31     6.885   \n",
       "\n",
       "                   75%     max  \n",
       "TransactionID  3139.75  4186.0  \n",
       "CustomerID      762.75  1000.0  \n",
       "Amount           11.69  2033.0  "
      ]
     },
     "execution_count": 1,
     "metadata": {},
     "output_type": "execute_result"
    }
   ],
   "source": [
    "import pandas as pd\n",
    "import matplotlib.pyplot as plt\n",
    "import numpy as np\n",
    "import collections as colt\n",
    "\n",
    "#Loading the dataset\n",
    "df=pd.read_csv(\"customer_transactions.csv\")\n",
    "\n",
    "\n",
    "# Step-1 - Understanding the data and doing EDA\n",
    "\n",
    "#0. Describe\n",
    "df.describe().transpose()\n"
   ]
  },
  {
   "cell_type": "markdown",
   "metadata": {},
   "source": [
    "There are no missing values.\n"
   ]
  },
  {
   "cell_type": "code",
   "execution_count": 2,
   "metadata": {},
   "outputs": [
    {
     "name": "stdout",
     "output_type": "stream",
     "text": [
      "The Minimum transaction date is: 1/1/2011\n",
      "The Maximum transaction date is: 9/9/2015\n",
      "Total unique customers are : 1000\n",
      "Variance of the Amount Column is  1499.5411107517461\n",
      "      TransactionID TransactionDate  CustomerID  Amount  year\n",
      "2869           2870        1/1/2011         707    2.46  2011\n",
      "3755           3756        1/1/2012         911    6.59  2012\n",
      "3752           3753        1/1/2012         909   14.24  2012\n",
      "1640           1641        1/1/2012         403   11.12  2012\n",
      "132             133        1/1/2012          34   12.03  2012\n"
     ]
    },
    {
     "data": {
      "image/png": "[encoded data removed]",
      "text/plain": [
       "<Figure size 432x288 with 1 Axes>"
      ]
     },
     "metadata": {
      "needs_background": "light"
     },
     "output_type": "display_data"
    }
   ],
   "source": [
    "#Step -1 - 2. What are range of dates in dataset?\n",
    "\n",
    "print(\"The Minimum transaction date is:\",df['TransactionDate'].min())\n",
    "print(\"The Maximum transaction date is:\",df['TransactionDate'].max())\n",
    "\n",
    "#Step 1 - 3. How many unique customers are in dataset?\n",
    "\n",
    "print('Total unique customers are :',df[\"CustomerID\"].nunique())\n",
    "\n",
    "#Step 1 - 4 - Profile the data to give statistical description for Amount Field?\n",
    "print('Variance of the Amount Column is ',df['Amount'].var())\n",
    "#Ans - Done above\n",
    "\n",
    "\n",
    "#Step 1-5 - DO transcation amounts increase over time?\n",
    "sorted_df = df.sort_values(by = 'TransactionDate')\n",
    "#sorted_df.head()\n",
    "\n",
    "sorted_df['year'] = pd.DatetimeIndex(sorted_df['TransactionDate']).year\n",
    "print(sorted_df.head())\n",
    "\n",
    "plt.scatter(sorted_df['Amount'],sorted_df['year'],marker='o')\n",
    "plt.ylabel(\"Time in Years\")\n",
    "plt.xlabel(\"Amount Spent by Individual Customers($)\")\n",
    "plt.show()\n"
   ]
  },
  {
   "cell_type": "markdown",
   "metadata": {},
   "source": [
    "We can say that baring a couple of instances, the transaction amount has not increased over the years."
   ]
  },
  {
   "cell_type": "markdown",
   "metadata": {},
   "source": [
    "# Step-2"
   ]
  },
  {
   "cell_type": "code",
   "execution_count": 3,
   "metadata": {},
   "outputs": [
    {
     "name": "stdout",
     "output_type": "stream",
     "text": [
      "Yes, there are outliers\n",
      "\n",
      "Dropping rows where the amount is negative:\n",
      "      TransactionID TransactionDate  CustomerID  Amount\n",
      "49               50       5/12/2012          13    -1.0\n",
      "3326           3327       1/16/2014         811    -1.0\n",
      "\n",
      "Dropping rows where the amount is 3 std deviations away - gretaer than 120:\n",
      "      TransactionID TransactionDate  CustomerID  Amount\n",
      "23               24       10/7/2011           7  1003.0\n",
      "211             212       5/14/2014          54  1027.0\n",
      "4177           4178       8/13/2012        1000  2033.0\n"
     ]
    },
    {
     "data": {
      "image/png": "[encoded data removed]",
      "text/plain": [
       "<Figure size 1440x360 with 1 Axes>"
      ]
     },
     "metadata": {
      "needs_background": "light"
     },
     "output_type": "display_data"
    }
   ],
   "source": [
    "#1.Are there any outliers?\n",
    "sorted_df.boxplot(column='Amount',vert=False,figsize =(20,5))\n",
    "print('Yes, there are outliers\\n')\n",
    "\n",
    "#2. If so how would you treat them?\n",
    "\n",
    "print('Dropping rows where the amount is negative:')\n",
    "delete1 = df[df['Amount']<0]\n",
    "print(delete1)\n",
    "df.drop(df[df.Amount < 0].index, inplace=True)\n",
    "\n",
    "print()\n",
    "\n",
    "print('Dropping rows where the amount is 3 std deviations away - gretaer than 120:')\n",
    "delete2 =df[df['Amount']>120] # \n",
    "print(delete2)\n",
    "df.drop(df[df.Amount > 120].index, inplace=True)"
   ]
  },
  {
   "cell_type": "markdown",
   "metadata": {},
   "source": [
    "# Step-3: Find origin year of customers"
   ]
  },
  {
   "cell_type": "code",
   "execution_count": 4,
   "metadata": {},
   "outputs": [
    {
     "name": "stdout",
     "output_type": "stream",
     "text": [
      "The data before:\n",
      "    TransactionID TransactionDate  CustomerID  Amount  year\n",
      "0              1        9/4/2012           1   20.26  2012\n",
      "1              2       5/15/2012           2   10.87  2012\n",
      "4              5      10/13/2012           2    3.94  2012\n",
      "5              6       1/23/2013           2   12.37  2013\n",
      "7              8      11/17/2013           2    2.75  2013\n",
      "\n",
      "The data after:\n",
      "       TransactionID TransactionDate  CustomerID  Amount  year_x  OriginYear\n",
      "0                 1      2012-09-04           1   20.26    2012        2012\n",
      "1                 2      2012-05-15           2   10.87    2012        2012\n",
      "2                 5      2012-10-13           2    3.94    2012        2012\n",
      "3                 6      2013-01-23           2   12.37    2013        2012\n",
      "4                 8      2013-11-17           2    2.75    2013        2012\n",
      "...             ...             ...         ...     ...     ...         ...\n",
      "4176           4182      2013-06-23        1000    3.86    2013        2010\n",
      "4177           4168      2014-04-18        1000   15.19    2014        2010\n",
      "4178           4185      2014-01-09        1000    3.45    2014        2010\n",
      "4179           4173      2015-01-02        1000    3.06    2015        2010\n",
      "4180           4175      2015-08-30        1000    3.58    2015        2010\n",
      "\n",
      "[4181 rows x 6 columns]\n"
     ]
    }
   ],
   "source": [
    "#Extracting year from transaction date and then sorting on Customer ID and year\n",
    "df['year'] = pd.DatetimeIndex(df['TransactionDate']).year\n",
    "new_df=df.sort_values(['CustomerID', 'year'], ascending=[True, True])\n",
    "print('The data before:\\n',new_df.head())\n",
    "\n",
    "\n",
    "#Using groupby function, finding the origin year of every customer\n",
    "grp = new_df.groupby('CustomerID')['year'].min()\n",
    "#grp\n",
    "\n",
    "#Merging the above dataframe with the original and renaming the column\n",
    "df_merge_col = pd.merge(new_df, grp, on='CustomerID')\n",
    "df_merge_col.rename(columns = {'year_y':'OriginYear'}, inplace = True)\n",
    "#df_merge_col\n",
    "\n",
    "#converting transaction date as date time format for comparison purposes\n",
    "df_merge_col['TransactionDate']=pd.to_datetime(df_merge_col['TransactionDate'])\n",
    "print('\\nThe data after:\\n',df_merge_col)"
   ]
  },
  {
   "cell_type": "markdown",
   "metadata": {},
   "source": [
    "# Step-4 : Calculate cumulative transaction amounts"
   ]
  },
  {
   "cell_type": "code",
   "execution_count": 5,
   "metadata": {},
   "outputs": [],
   "source": [
    "#Here I am making groups of customers based upon there Origin Years\n",
    "#Then in a row, I am storing the values based upon given conditions \n",
    "grp2010 = df_merge_col[df_merge_col[\"OriginYear\"]==2010]\n",
    "\n",
    "\n",
    "row1=[]\n",
    "grp2010_R12=grp2010[np.logical_and((grp2010['TransactionDate']>=\"2010-01-01\"), (grp2010['TransactionDate']<=\"2010-12-31\"))][[\"Amount\"]].sum()\n",
    "grp2010_R24=grp2010[np.logical_and((grp2010['TransactionDate']>=\"2010-01-01\"), (grp2010['TransactionDate']<=\"2011-12-31\"))][[\"Amount\"]].sum()\n",
    "grp2010_R36=grp2010[np.logical_and((grp2010['TransactionDate']>=\"2010-01-01\"), (grp2010['TransactionDate']<=\"2012-12-31\"))][[\"Amount\"]].sum()\n",
    "grp2010_R48=grp2010[np.logical_and((grp2010['TransactionDate']>=\"2010-01-01\"), (grp2010['TransactionDate']<=\"2013-12-31\"))][[\"Amount\"]].sum()\n",
    "grp2010_R60=grp2010[np.logical_and((grp2010['TransactionDate']>=\"2010-01-01\"), (grp2010['TransactionDate']<=\"2014-12-31\"))][[\"Amount\"]].sum()\n",
    "grp2010_R72=grp2010[np.logical_and((grp2010['TransactionDate']>=\"2010-01-01\"), (grp2010['TransactionDate']<=\"2015-12-31\"))][[\"Amount\"]].sum()\n",
    "row1.extend((grp2010_R12[0],grp2010_R24[0],grp2010_R36[0],grp2010_R48[0],grp2010_R60[0],grp2010_R72[0]))\n",
    "\n",
    "\n",
    "row2=[]\n",
    "grp2011=df_merge_col[df_merge_col[\"OriginYear\"]==2011]\n",
    "grp2011_R12=grp2011[np.logical_and((grp2011['TransactionDate']>=\"2011-01-01\"), (grp2011['TransactionDate']<=\"2011-12-31\"))][[\"Amount\"]].sum()\n",
    "grp2011_R24=grp2011[np.logical_and((grp2011['TransactionDate']>=\"2011-01-01\"), (grp2011['TransactionDate']<=\"2012-12-31\"))][[\"Amount\"]].sum()\n",
    "grp2011_R36=grp2011[np.logical_and((grp2011['TransactionDate']>=\"2011-01-01\"), (grp2011['TransactionDate']<=\"2013-12-31\"))][[\"Amount\"]].sum()\n",
    "grp2011_R48=grp2011[np.logical_and((grp2011['TransactionDate']>=\"2011-01-01\"), (grp2011['TransactionDate']<=\"2014-12-31\"))][[\"Amount\"]].sum()\n",
    "grp2011_R60=grp2011[np.logical_and((grp2011['TransactionDate']>=\"2011-01-01\"), (grp2011['TransactionDate']<=\"2015-12-31\"))][[\"Amount\"]].sum()\n",
    "row2.extend((grp2011_R12[0],grp2011_R24[0],grp2011_R36[0],grp2011_R48[0],grp2011_R60[0]))\n",
    "\n",
    "\n",
    "row3=[]\n",
    "grp2012=df_merge_col[df_merge_col[\"OriginYear\"]==2012]\n",
    "grp2012_R12=grp2012[np.logical_and((grp2012['TransactionDate']>=\"2012-01-01\"), (grp2012['TransactionDate']<=\"2012-12-31\"))][[\"Amount\"]].sum()\n",
    "grp2012_R24=grp2012[np.logical_and((grp2012['TransactionDate']>=\"2012-01-01\"), (grp2012['TransactionDate']<=\"2013-12-31\"))][[\"Amount\"]].sum()\n",
    "grp2012_R36=grp2012[np.logical_and((grp2012['TransactionDate']>=\"2012-01-01\"), (grp2012['TransactionDate']<=\"2014-12-31\"))][[\"Amount\"]].sum()\n",
    "grp2012_R48=grp2012[np.logical_and((grp2012['TransactionDate']>=\"2012-01-01\"), (grp2012['TransactionDate']<=\"2015-12-31\"))][[\"Amount\"]].sum()\n",
    "row3.extend((grp2012_R12[0],grp2012_R24[0],grp2012_R36[0],grp2012_R48[0]))\n",
    "\n",
    "\n",
    "row4=[]\n",
    "grp2013=df_merge_col[df_merge_col[\"OriginYear\"]==2013]\n",
    "grp2013_R12=grp2013[np.logical_and((grp2013['TransactionDate']>=\"2013-01-01\"), (grp2013['TransactionDate']<=\"2013-12-31\"))][[\"Amount\"]].sum()\n",
    "grp2013_R24=grp2013[np.logical_and((grp2013['TransactionDate']>=\"2013-01-01\"), (grp2013['TransactionDate']<=\"2014-12-31\"))][[\"Amount\"]].sum()\n",
    "grp2013_R36=grp2013[np.logical_and((grp2013['TransactionDate']>=\"2013-01-01\"), (grp2013['TransactionDate']<=\"2015-12-31\"))][[\"Amount\"]].sum()\n",
    "row4.extend((grp2013_R12[0],grp2013_R24[0],grp2013_R36[0]))\n",
    "\n",
    "\n",
    "row5=[]\n",
    "grp2014=df_merge_col[df_merge_col[\"OriginYear\"]==2014]\n",
    "grp2014_R12=grp2014[np.logical_and((grp2014['TransactionDate']>=\"2014-01-01\"), (grp2014['TransactionDate']<=\"2014-12-31\"))][[\"Amount\"]].sum()\n",
    "grp2014_R24=grp2014[np.logical_and((grp2014['TransactionDate']>=\"2014-01-01\"), (grp2014['TransactionDate']<=\"2015-12-31\"))][[\"Amount\"]].sum()\n",
    "row5.extend((grp2014_R12[0],grp2014_R24[0]))\n",
    "\n",
    "\n",
    "row6=[]\n",
    "grp2015=df_merge_col[df_merge_col[\"OriginYear\"]==2015]\n",
    "grp2015_R12=grp2015[np.logical_and((grp2015['TransactionDate']>=\"2015-01-01\"), (grp2015['TransactionDate']<=\"2015-12-31\"))][[\"Amount\"]].sum()\n",
    "row6.append(grp2015_R12[0])\n",
    "\n",
    "\n",
    "\n"
   ]
  },
  {
   "cell_type": "code",
   "execution_count": 6,
   "metadata": {},
   "outputs": [
    {
     "data": {
      "text/html": [
       "<div>\n",
       "<style scoped>\n",
       "    .dataframe tbody tr th:only-of-type {\n",
       "        vertical-align: middle;\n",
       "    }\n",
       "\n",
       "    .dataframe tbody tr th {\n",
       "        vertical-align: top;\n",
       "    }\n",
       "\n",
       "    .dataframe thead th {\n",
       "        text-align: right;\n",
       "    }\n",
       "</style>\n",
       "<table border=\"1\" class=\"dataframe\">\n",
       "  <thead>\n",
       "    <tr style=\"text-align: right;\">\n",
       "      <th></th>\n",
       "      <th>12</th>\n",
       "      <th>24</th>\n",
       "      <th>36</th>\n",
       "      <th>48</th>\n",
       "      <th>60</th>\n",
       "      <th>72</th>\n",
       "    </tr>\n",
       "    <tr>\n",
       "      <th>Origin</th>\n",
       "      <th></th>\n",
       "      <th></th>\n",
       "      <th></th>\n",
       "      <th></th>\n",
       "      <th></th>\n",
       "      <th></th>\n",
       "    </tr>\n",
       "  </thead>\n",
       "  <tbody>\n",
       "    <tr>\n",
       "      <td>2010</td>\n",
       "      <td>2259.67</td>\n",
       "      <td>3614.78</td>\n",
       "      <td>5274.81</td>\n",
       "      <td>6632.37</td>\n",
       "      <td>7930.69</td>\n",
       "      <td>8964.49</td>\n",
       "    </tr>\n",
       "    <tr>\n",
       "      <td>2011</td>\n",
       "      <td>2238.46</td>\n",
       "      <td>3757.90</td>\n",
       "      <td>5465.99</td>\n",
       "      <td>6703.11</td>\n",
       "      <td>7862.24</td>\n",
       "      <td>0.00</td>\n",
       "    </tr>\n",
       "    <tr>\n",
       "      <td>2012</td>\n",
       "      <td>2181.35</td>\n",
       "      <td>3874.69</td>\n",
       "      <td>5226.86</td>\n",
       "      <td>6501.85</td>\n",
       "      <td>0.00</td>\n",
       "      <td>0.00</td>\n",
       "    </tr>\n",
       "    <tr>\n",
       "      <td>2013</td>\n",
       "      <td>2179.85</td>\n",
       "      <td>3609.81</td>\n",
       "      <td>5227.75</td>\n",
       "      <td>0.00</td>\n",
       "      <td>0.00</td>\n",
       "      <td>0.00</td>\n",
       "    </tr>\n",
       "    <tr>\n",
       "      <td>2014</td>\n",
       "      <td>1830.85</td>\n",
       "      <td>3262.05</td>\n",
       "      <td>0.00</td>\n",
       "      <td>0.00</td>\n",
       "      <td>0.00</td>\n",
       "      <td>0.00</td>\n",
       "    </tr>\n",
       "    <tr>\n",
       "      <td>2015</td>\n",
       "      <td>1912.17</td>\n",
       "      <td>0.00</td>\n",
       "      <td>0.00</td>\n",
       "      <td>0.00</td>\n",
       "      <td>0.00</td>\n",
       "      <td>0.00</td>\n",
       "    </tr>\n",
       "  </tbody>\n",
       "</table>\n",
       "</div>"
      ],
      "text/plain": [
       "             12       24       36       48       60       72\n",
       "Origin                                                      \n",
       "2010    2259.67  3614.78  5274.81  6632.37  7930.69  8964.49\n",
       "2011    2238.46  3757.90  5465.99  6703.11  7862.24     0.00\n",
       "2012    2181.35  3874.69  5226.86  6501.85     0.00     0.00\n",
       "2013    2179.85  3609.81  5227.75     0.00     0.00     0.00\n",
       "2014    1830.85  3262.05     0.00     0.00     0.00     0.00\n",
       "2015    1912.17     0.00     0.00     0.00     0.00     0.00"
      ]
     },
     "execution_count": 6,
     "metadata": {},
     "output_type": "execute_result"
    }
   ],
   "source": [
    "final_frame = [list(row1),list(row2),list(row3),list(row4),list(row5),(row6)]\n",
    "Amount_cmltv = pd.DataFrame(final_frame, columns=['12','24','36','48','60','72'])\n",
    "Amount_cmltv=Amount_cmltv.fillna(0)\n",
    "Origin = [\"2010\",\"2011\",\"2012\",\"2013\",\"2014\",\"2015\"]\n",
    "Amount_cmltv[\"Origin\"]=Origin\n",
    "Amount_cmltv.set_index(\"Origin\")\n"
   ]
  },
  {
   "cell_type": "markdown",
   "metadata": {},
   "source": [
    "Amount.cmltv"
   ]
  },
  {
   "cell_type": "markdown",
   "metadata": {},
   "source": [
    "# Step - 5 : Calculate cumulative transaction amounts:"
   ]
  },
  {
   "cell_type": "code",
   "execution_count": 7,
   "metadata": {},
   "outputs": [
    {
     "data": {
      "text/html": [
       "<div>\n",
       "<style scoped>\n",
       "    .dataframe tbody tr th:only-of-type {\n",
       "        vertical-align: middle;\n",
       "    }\n",
       "\n",
       "    .dataframe tbody tr th {\n",
       "        vertical-align: top;\n",
       "    }\n",
       "\n",
       "    .dataframe thead th {\n",
       "        text-align: right;\n",
       "    }\n",
       "</style>\n",
       "<table border=\"1\" class=\"dataframe\">\n",
       "  <thead>\n",
       "    <tr style=\"text-align: right;\">\n",
       "      <th></th>\n",
       "      <th>12</th>\n",
       "      <th>24</th>\n",
       "      <th>36</th>\n",
       "      <th>48</th>\n",
       "      <th>60</th>\n",
       "      <th>72</th>\n",
       "    </tr>\n",
       "    <tr>\n",
       "      <th>Origin</th>\n",
       "      <th></th>\n",
       "      <th></th>\n",
       "      <th></th>\n",
       "      <th></th>\n",
       "      <th></th>\n",
       "      <th></th>\n",
       "    </tr>\n",
       "  </thead>\n",
       "  <tbody>\n",
       "    <tr>\n",
       "      <td>2010</td>\n",
       "      <td>172</td>\n",
       "      <td>172.0</td>\n",
       "      <td>172.0</td>\n",
       "      <td>172.0</td>\n",
       "      <td>172.0</td>\n",
       "      <td>172.0</td>\n",
       "    </tr>\n",
       "    <tr>\n",
       "      <td>2011</td>\n",
       "      <td>170</td>\n",
       "      <td>170.0</td>\n",
       "      <td>170.0</td>\n",
       "      <td>170.0</td>\n",
       "      <td>170.0</td>\n",
       "      <td>0.0</td>\n",
       "    </tr>\n",
       "    <tr>\n",
       "      <td>2012</td>\n",
       "      <td>163</td>\n",
       "      <td>163.0</td>\n",
       "      <td>163.0</td>\n",
       "      <td>163.0</td>\n",
       "      <td>0.0</td>\n",
       "      <td>0.0</td>\n",
       "    </tr>\n",
       "    <tr>\n",
       "      <td>2013</td>\n",
       "      <td>180</td>\n",
       "      <td>180.0</td>\n",
       "      <td>180.0</td>\n",
       "      <td>0.0</td>\n",
       "      <td>0.0</td>\n",
       "      <td>0.0</td>\n",
       "    </tr>\n",
       "    <tr>\n",
       "      <td>2014</td>\n",
       "      <td>155</td>\n",
       "      <td>155.0</td>\n",
       "      <td>0.0</td>\n",
       "      <td>0.0</td>\n",
       "      <td>0.0</td>\n",
       "      <td>0.0</td>\n",
       "    </tr>\n",
       "    <tr>\n",
       "      <td>2015</td>\n",
       "      <td>160</td>\n",
       "      <td>0.0</td>\n",
       "      <td>0.0</td>\n",
       "      <td>0.0</td>\n",
       "      <td>0.0</td>\n",
       "      <td>0.0</td>\n",
       "    </tr>\n",
       "  </tbody>\n",
       "</table>\n",
       "</div>"
      ],
      "text/plain": [
       "         12     24     36     48     60     72\n",
       "Origin                                        \n",
       "2010    172  172.0  172.0  172.0  172.0  172.0\n",
       "2011    170  170.0  170.0  170.0  170.0    0.0\n",
       "2012    163  163.0  163.0  163.0    0.0    0.0\n",
       "2013    180  180.0  180.0    0.0    0.0    0.0\n",
       "2014    155  155.0    0.0    0.0    0.0    0.0\n",
       "2015    160    0.0    0.0    0.0    0.0    0.0"
      ]
     },
     "execution_count": 7,
     "metadata": {},
     "output_type": "execute_result"
    }
   ],
   "source": [
    "#finding unique number of customers in each origin year group\n",
    "first = [grp2010['CustomerID'].nunique()]*6\n",
    "second = [grp2011['CustomerID'].nunique()]*5\n",
    "third= [grp2012['CustomerID'].nunique()]*4\n",
    "fourth = [grp2013['CustomerID'].nunique()]*3\n",
    "fifth =[grp2014['CustomerID'].nunique()]*2\n",
    "sixth = [grp2015['CustomerID'].nunique()]\n",
    "\n",
    "#Making a frame out of it and displaying\n",
    "final_frame2 = [first,second,third,fourth,fifth,sixth]\n",
    "NewCustomers_cmltv = pd.DataFrame(final_frame2, columns=['12','24','36','48','60','72'])\n",
    "NewCustomers_cmltv=NewCustomers_cmltv.fillna(0)\n",
    "Origin = [\"2010\",\"2011\",\"2012\",\"2013\",\"2014\",\"2015\"]\n",
    "NewCustomers_cmltv[\"Origin\"]=Origin\n",
    "NewCustomers_cmltv.set_index(\"Origin\")\n"
   ]
  },
  {
   "cell_type": "markdown",
   "metadata": {},
   "source": [
    "NewCustomers.cmltv"
   ]
  },
  {
   "cell_type": "markdown",
   "metadata": {},
   "source": [
    "# Step 6: Historic CLV"
   ]
  },
  {
   "cell_type": "code",
   "execution_count": 8,
   "metadata": {},
   "outputs": [
    {
     "data": {
      "text/html": [
       "<div>\n",
       "<style scoped>\n",
       "    .dataframe tbody tr th:only-of-type {\n",
       "        vertical-align: middle;\n",
       "    }\n",
       "\n",
       "    .dataframe tbody tr th {\n",
       "        vertical-align: top;\n",
       "    }\n",
       "\n",
       "    .dataframe thead th {\n",
       "        text-align: right;\n",
       "    }\n",
       "</style>\n",
       "<table border=\"1\" class=\"dataframe\">\n",
       "  <thead>\n",
       "    <tr style=\"text-align: right;\">\n",
       "      <th></th>\n",
       "      <th>12</th>\n",
       "      <th>24</th>\n",
       "      <th>36</th>\n",
       "      <th>48</th>\n",
       "      <th>60</th>\n",
       "      <th>72</th>\n",
       "    </tr>\n",
       "    <tr>\n",
       "      <th>Origin</th>\n",
       "      <th></th>\n",
       "      <th></th>\n",
       "      <th></th>\n",
       "      <th></th>\n",
       "      <th></th>\n",
       "      <th></th>\n",
       "    </tr>\n",
       "  </thead>\n",
       "  <tbody>\n",
       "    <tr>\n",
       "      <td>2010</td>\n",
       "      <td>13.137616</td>\n",
       "      <td>21.016163</td>\n",
       "      <td>30.667500</td>\n",
       "      <td>38.560291</td>\n",
       "      <td>46.108663</td>\n",
       "      <td>52.119128</td>\n",
       "    </tr>\n",
       "    <tr>\n",
       "      <td>2011</td>\n",
       "      <td>13.167412</td>\n",
       "      <td>22.105294</td>\n",
       "      <td>32.152882</td>\n",
       "      <td>39.430059</td>\n",
       "      <td>46.248471</td>\n",
       "      <td>NaN</td>\n",
       "    </tr>\n",
       "    <tr>\n",
       "      <td>2012</td>\n",
       "      <td>13.382515</td>\n",
       "      <td>23.771104</td>\n",
       "      <td>32.066626</td>\n",
       "      <td>39.888650</td>\n",
       "      <td>NaN</td>\n",
       "      <td>NaN</td>\n",
       "    </tr>\n",
       "    <tr>\n",
       "      <td>2013</td>\n",
       "      <td>12.110278</td>\n",
       "      <td>20.054500</td>\n",
       "      <td>29.043056</td>\n",
       "      <td>NaN</td>\n",
       "      <td>NaN</td>\n",
       "      <td>NaN</td>\n",
       "    </tr>\n",
       "    <tr>\n",
       "      <td>2014</td>\n",
       "      <td>11.811935</td>\n",
       "      <td>21.045484</td>\n",
       "      <td>NaN</td>\n",
       "      <td>NaN</td>\n",
       "      <td>NaN</td>\n",
       "      <td>NaN</td>\n",
       "    </tr>\n",
       "    <tr>\n",
       "      <td>2015</td>\n",
       "      <td>11.951063</td>\n",
       "      <td>NaN</td>\n",
       "      <td>NaN</td>\n",
       "      <td>NaN</td>\n",
       "      <td>NaN</td>\n",
       "      <td>NaN</td>\n",
       "    </tr>\n",
       "  </tbody>\n",
       "</table>\n",
       "</div>"
      ],
      "text/plain": [
       "               12         24         36         48         60         72\n",
       "Origin                                                                  \n",
       "2010    13.137616  21.016163  30.667500  38.560291  46.108663  52.119128\n",
       "2011    13.167412  22.105294  32.152882  39.430059  46.248471        NaN\n",
       "2012    13.382515  23.771104  32.066626  39.888650        NaN        NaN\n",
       "2013    12.110278  20.054500  29.043056        NaN        NaN        NaN\n",
       "2014    11.811935  21.045484        NaN        NaN        NaN        NaN\n",
       "2015    11.951063        NaN        NaN        NaN        NaN        NaN"
      ]
     },
     "execution_count": 8,
     "metadata": {},
     "output_type": "execute_result"
    }
   ],
   "source": [
    "#Using HistoricCLV = Amount/NewCustomers, finding the rows of data and then displaying in dataframe\n",
    "a=np.array(row1)/np.array(first)\n",
    "b=np.array(row2)/np.array(second)\n",
    "c=np.array(row3)/np.array(third)\n",
    "d=np.array(row4)/np.array(fourth)\n",
    "e=np.array(row5)/np.array(fifth)\n",
    "f=np.array(row6)/np.array(sixth)\n",
    "\n",
    "\n",
    "historic=pd.DataFrame([a,b,c,d,e,f], columns=['12','24','36','48','60','72'])\n",
    "#historic=historic.fillna(0)\n",
    "Origin = [\"2010\",\"2011\",\"2012\",\"2013\",\"2014\",\"2015\"]\n",
    "historic[\"Origin\"]=Origin\n",
    "historic=historic.set_index(\"Origin\")\n",
    "historic"
   ]
  },
  {
   "cell_type": "markdown",
   "metadata": {},
   "source": [
    "HistoricCLV"
   ]
  },
  {
   "cell_type": "code",
   "execution_count": 9,
   "metadata": {},
   "outputs": [
    {
     "name": "stdout",
     "output_type": "stream",
     "text": [
      "Blue - 2010 Origin Cust\n",
      "Red - 2011 Origin Cust\n",
      "Green - 2012 Origin Cust\n",
      "Yellow - 2013 Origin Cust\n",
      "Pink - 2014 Origin Cust\n",
      "Black - 2015 Origin Cust\n"
     ]
    },
    {
     "data": {
      "image/png": "[encoded data removed]",
      "text/plain": [
       "<Figure size 432x288 with 1 Axes>"
      ]
     },
     "metadata": {
      "needs_background": "light"
     },
     "output_type": "display_data"
    }
   ],
   "source": [
    "x=['12','24','36','48','60','72']\n",
    "plt.plot( historic.iloc[0], marker='o', markerfacecolor='blue', markersize=12, color='skyblue')\n",
    "plt.plot( historic.iloc[1], marker='o', markerfacecolor='red', markersize=12, color='skyblue')\n",
    "plt.plot( historic.iloc[2], marker='o', markerfacecolor='green', markersize=12, color='skyblue')\n",
    "plt.plot( historic.iloc[3], marker='o', markerfacecolor='yellow', markersize=12, color='skyblue')\n",
    "plt.plot( historic.iloc[4], marker='o', markerfacecolor='pink', markersize=12, color='skyblue')\n",
    "plt.plot( historic.iloc[5], marker='o', markerfacecolor='black', markersize=12, color='skyblue')\n",
    "plt.xlabel(\"Age\")\n",
    "plt.ylabel(\"Historic_CLV\")\n",
    "plt.yticks([10,15,20,25,30,35,40,45,50],['$10','$15','$20','$25','$30','$35','$40','$45','$50'])\n",
    "\n",
    "print('Blue - 2010 Origin Cust\\nRed - 2011 Origin Cust\\nGreen - 2012 Origin Cust\\nYellow - 2013 Origin Cust\\nPink - 2014 Origin Cust\\nBlack - 2015 Origin Cust')"
   ]
  },
  {
   "cell_type": "markdown",
   "metadata": {},
   "source": [
    "1. How much have customers acquired in 2011 spend to date?\n",
    "\n",
    "Ans - 7862.24$ from 2011 till 2015 \n",
    "\n",
    "2. Do each group of customers exhibit similar or different patterns of spending? What's the implication for the business?\n",
    "\n",
    "Ans - Yes, the customers exhibit similar patterns of spending. It's business impact is that the revenue from each customer will keep going up till the customer is an active member of the business."
   ]
  },
  {
   "cell_type": "markdown",
   "metadata": {},
   "source": [
    "# Step-7 : Finding Weighted CLV"
   ]
  },
  {
   "cell_type": "code",
   "execution_count": 10,
   "metadata": {},
   "outputs": [
    {
     "data": {
      "text/html": [
       "<div>\n",
       "<style scoped>\n",
       "    .dataframe tbody tr th:only-of-type {\n",
       "        vertical-align: middle;\n",
       "    }\n",
       "\n",
       "    .dataframe tbody tr th {\n",
       "        vertical-align: top;\n",
       "    }\n",
       "\n",
       "    .dataframe thead th {\n",
       "        text-align: right;\n",
       "    }\n",
       "</style>\n",
       "<table border=\"1\" class=\"dataframe\">\n",
       "  <thead>\n",
       "    <tr style=\"text-align: right;\">\n",
       "      <th></th>\n",
       "      <th>HistoricCLV</th>\n",
       "    </tr>\n",
       "    <tr>\n",
       "      <th>Age</th>\n",
       "      <th></th>\n",
       "    </tr>\n",
       "  </thead>\n",
       "  <tbody>\n",
       "    <tr>\n",
       "      <td>12</td>\n",
       "      <td>12.602350</td>\n",
       "    </tr>\n",
       "    <tr>\n",
       "      <td>24</td>\n",
       "      <td>21.570512</td>\n",
       "    </tr>\n",
       "    <tr>\n",
       "      <td>36</td>\n",
       "      <td>30.942204</td>\n",
       "    </tr>\n",
       "    <tr>\n",
       "      <td>48</td>\n",
       "      <td>39.281842</td>\n",
       "    </tr>\n",
       "    <tr>\n",
       "      <td>60</td>\n",
       "      <td>46.178158</td>\n",
       "    </tr>\n",
       "    <tr>\n",
       "      <td>72</td>\n",
       "      <td>52.119128</td>\n",
       "    </tr>\n",
       "  </tbody>\n",
       "</table>\n",
       "</div>"
      ],
      "text/plain": [
       "     HistoricCLV\n",
       "Age             \n",
       "12     12.602350\n",
       "24     21.570512\n",
       "36     30.942204\n",
       "48     39.281842\n",
       "60     46.178158\n",
       "72     52.119128"
      ]
     },
     "execution_count": 10,
     "metadata": {},
     "output_type": "execute_result"
    }
   ],
   "source": [
    "#filling NaN values with 0 for calculation purposes\n",
    "historic.fillna(0)\n",
    "NewCustomers_cmltv.fillna(0)\n",
    "\n",
    "#Using for loop and formula given , calculating the HistoricCLV for all origin years\n",
    "divisor = []\n",
    "numerator=[]\n",
    "upperwala=[]\n",
    "\n",
    "for i in range(0,6):\n",
    "    numerator.append(np.array(historic.iloc[:,i])*np.array(NewCustomers_cmltv.iloc[:,i]))\n",
    "    divisor.append(NewCustomers_cmltv.iloc[:,i].sum())\n",
    "\n",
    "numerator=np.array(numerator)\n",
    "numerator[np.isnan(numerator)] = 0\n",
    "\n",
    "for y in range(0,len(numerator)):\n",
    "    \n",
    "    upperwala.append(numerator[y].sum())\n",
    "    \n",
    "ans=np.array(upperwala)/np.array(divisor)\n",
    "final_df=pd.DataFrame()\n",
    "final_df[\"HistoricCLV\"]=ans\n",
    "Age = [\"12\",\"24\",\"36\",\"48\",\"60\",\"72\"]\n",
    "final_df[\"Age\"]=Age\n",
    "final_df=final_df.set_index(\"Age\")\n",
    "final_df"
   ]
  },
  {
   "cell_type": "code",
   "execution_count": 11,
   "metadata": {},
   "outputs": [
    {
     "data": {
      "text/plain": [
       "Text(0.5, 1.0, 'Weighted Average HistoricCLV for given dataset')"
      ]
     },
     "execution_count": 11,
     "metadata": {},
     "output_type": "execute_result"
    },
    {
     "data": {
      "image/png": "[encoded data removed]",
      "text/plain": [
       "<Figure size 432x288 with 1 Axes>"
      ]
     },
     "metadata": {
      "needs_background": "light"
     },
     "output_type": "display_data"
    }
   ],
   "source": [
    "plt.plot(final_df['HistoricCLV'],data=final_df)\n",
    "plt.xlabel(\"Age\")\n",
    "plt.ylabel(\"HistoricCLV (weighted average)\")\n",
    "plt.title(\"Weighted Average HistoricCLV for given dataset\")"
   ]
  }
 ],
 "metadata": {
  "kernelspec": {
   "display_name": "Python 3",
   "language": "python",
   "name": "python3"
  },
  "language_info": {
   "codemirror_mode": {
    "name": "ipython",
    "version": 3
   },
   "file_extension": ".py",
   "mimetype": "text/x-python",
   "name": "python",
   "nbconvert_exporter": "python",
   "pygments_lexer": "ipython3",
   "version": "3.7.4"
  }
 },
 "nbformat": 4,
 "nbformat_minor": 2
}
